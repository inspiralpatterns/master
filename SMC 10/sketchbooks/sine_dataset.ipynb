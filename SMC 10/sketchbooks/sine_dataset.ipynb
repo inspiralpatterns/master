{
 "cells": [
  {
   "cell_type": "markdown",
   "metadata": {
    "deletable": true,
    "editable": true
   },
   "source": [
    "## Sinusoids Dataset\n",
    "This script computes an example dataset made of sinusoids of length 1 sec at frequency sampling of 44100 Hz."
   ]
  },
  {
   "cell_type": "code",
   "execution_count": null,
   "metadata": {
    "collapsed": true,
    "deletable": true,
    "editable": true
   },
   "outputs": [],
   "source": [
    "import numpy as np\n",
    "import librosa # write the output for check purpose\n",
    "from datetime import datetime"
   ]
  },
  {
   "cell_type": "code",
   "execution_count": null,
   "metadata": {
    "collapsed": false,
    "deletable": true,
    "editable": true
   },
   "outputs": [],
   "source": [
    "# calculate a quasi-mel spaced array of frequencies\n",
    "freqs = np.arange(50,100,5)\n",
    "freqs = np.concatenate((freqs,np.arange(100,500,10)))\n",
    "freqs = np.concatenate((freqs,np.arange(510,1000,20)))\n",
    "freqs = np.concatenate((freqs,np.arange(1000,2000,40)))\n",
    "freqs = np.concatenate((freqs,np.arange(2000,4000,80)))\n",
    "print('no of selected frequencies:', freqs.shape)"
   ]
  },
  {
   "cell_type": "code",
   "execution_count": null,
   "metadata": {
    "collapsed": true,
    "deletable": true,
    "editable": true
   },
   "outputs": [],
   "source": [
    "# define a function that computes a sine wave\n",
    "def sinusoid(freq, fs, dur):\n",
    "    y = (np.sin(2*np.pi*np.arange(fs*dur)*freq/fs)).astype(np.float32)\n",
    "         \n",
    "    return y"
   ]
  },
  {
   "cell_type": "code",
   "execution_count": null,
   "metadata": {
    "collapsed": false,
    "deletable": true,
    "editable": true
   },
   "outputs": [],
   "source": [
    "# variables initialisation\n",
    "fs = 44100\n",
    "dur = 1\n",
    "dataset = np.zeros([44100]).astype(np.float32)"
   ]
  },
  {
   "cell_type": "code",
   "execution_count": null,
   "metadata": {
    "collapsed": false,
    "deletable": true,
    "editable": true
   },
   "outputs": [],
   "source": [
    "# For a set containing one sinusouids per example  \n",
    "print('Computation started at ', datetime.now().time())\n",
    "\n",
    "for freq in freqs:\n",
    "    # initialise y to be empty\n",
    "    y = 0\n",
    "    \n",
    "    # calculate the sinusoid \n",
    "    y = sinusoid(freq=freq,sr=sr,dur=dur,amp=1)\n",
    "    # stack the sinusoid in the numpy array\n",
    "    dataset = np.vstack((dataset,y))"
   ]
  },
  {
   "cell_type": "code",
   "execution_count": null,
   "metadata": {
    "collapsed": false,
    "deletable": true,
    "editable": true
   },
   "outputs": [],
   "source": [
    "# For a set containing more sinusouids per example  \n",
    "print('Computation started at ', datetime.now().time())\n",
    "\n",
    "# compute up to 10 harmonics for each frequency in the list and sum them up\n",
    "for freq in freqs:\n",
    "    # initialise y to be empty\n",
    "    y = np.zeros([44100,]).astype(np.float32)\n",
    "    for n in range(10):\n",
    "        # calculate frequency if < 20kHz\n",
    "        x = freq*(n+1)\n",
    "        #print('freq:', x)\n",
    "        if x < 20000:\n",
    "            # calculate the sinusoid and add it to the previous one(s)\n",
    "            y += sinusoid(freq=x,fs=fs,dur=dur)\n",
    "            # apply normalisation\n",
    "            y /= np.max(abs(y))\n",
    "            #print(np.max(abs(y)))\n",
    "                \n",
    "            # stack the sinusoid in the numpy array\n",
    "            dataset = np.vstack((dataset,y))\n",
    "        else: \n",
    "            pass\n",
    "        \n"
   ]
  },
  {
   "cell_type": "code",
   "execution_count": null,
   "metadata": {
    "collapsed": false,
    "deletable": true,
    "editable": true
   },
   "outputs": [],
   "source": [
    "np.savez_compressed(file='sine_dataset', sines=dataset)\n",
    "print('Saved and successfully finished at ', datetime.now().time())"
   ]
  },
  {
   "cell_type": "markdown",
   "metadata": {
    "deletable": true,
    "editable": true
   },
   "source": [
    "## Log spectra dataset"
   ]
  },
  {
   "cell_type": "code",
   "execution_count": null,
   "metadata": {
    "collapsed": true,
    "deletable": true,
    "editable": true
   },
   "outputs": [],
   "source": [
    "# define function for computing log magnitude spectra\n",
    "def compute_spectra(x, fft_size, hop_size):\n",
    "\n",
    "    # get options for computing spectra\n",
    "    no_fft = fft_size                      # fft length\n",
    "    hop = hop_size                         # hop size\n",
    "\n",
    "    # STFT for the vector, 50% overlap\n",
    "    # (S is a complex matrix with the magnitude and phase of the fourier transform)\n",
    "    S = librosa.core.stft(y=x,n_fft=no_fft,hop_length=hop_size) \n",
    "    # Take the magnitude with abs (call it Z) and return log(1 + Z) as the spectrogram\n",
    "    S = np.log1p(np.abs(S)) \n",
    "        \n",
    "    # get spectrogram matrix dimensions (to be used in the convnet)\n",
    "    dims = S.shape\n",
    "    # print(dims)\n",
    "\n",
    "    return S, dims"
   ]
  },
  {
   "cell_type": "code",
   "execution_count": null,
   "metadata": {
    "collapsed": false,
    "deletable": true,
    "editable": true
   },
   "outputs": [],
   "source": [
    "# general parameter initialisation\n",
    "sr = 44100                                              # sampling rate\n",
    "fft_size = 1024                                         # size of FFT\n",
    "hop_size = 512                                          # hop size (overlap)\n",
    "duration = 1                                            # segment duration (sec)\n",
    "no_fft = 88                                             # frames in spectrogram\n",
    "res = fft_size/2+1\n",
    "\n",
    "# load the dataset structure\n",
    "path = 'sine_dataset.npz'\n",
    "data = np.load(path, 'rb')\n",
    "sines = data['sines']                                 # get the id for each recording (list)\n",
    "# discard first\n",
    "sines = sines[1:]\n",
    "print(len(sines), ' sinusoids in the dataset')\n",
    "\n",
    "# variables initialisation\n",
    "dataset = np.empty([0, res, no_fft])                    # empty 3-d array\n",
    "norm_coeffs = np.empty(0,).astype(np.float32)           # for normalisation factors\n",
    "mean_coeffs = np.empty(0,).astype(np.float32)           # for standardisation factors"
   ]
  },
  {
   "cell_type": "code",
   "execution_count": null,
   "metadata": {
    "collapsed": false,
    "deletable": true,
    "editable": true
   },
   "outputs": [],
   "source": [
    "# SPECTROGRAM COMPUTATION\n",
    "print('Computation started at ', datetime.now().time())\n",
    "for sine in sines:\n",
    "    \n",
    "    # zero-pad to get 88 timesteps in spectrogram\n",
    "    x = np.hstack(tup=(sine,np.zeros(500,)))\n",
    "    # hard coding for 128-by-128 spectrogram\n",
    "    #x = sine[:65500]\n",
    "    # compute the spectrogram for the sample\n",
    "    [S, dims] = compute_spectra(\n",
    "        x=x,\n",
    "        fft_size=fft_size,\n",
    "        hop_size=hop_size,\n",
    "    )\n",
    "    \n",
    "    # normalise the spectrogram\n",
    "    # reshape spectrogram\n",
    "    S = np.reshape(S, newshape=[1, dims[0], dims[1]])\n",
    "    dataset = np.concatenate((dataset, S), axis=0)\n",
    "    #norm_coeffs = np.hstack(tup=(norm_coeffs,S_norm))\n",
    "    #mean_coeffs = np.hstack(tup=(mean_coeffs,S_mean))\n",
    "    #print('New shape:', dataset.shape)"
   ]
  },
  {
   "cell_type": "code",
   "execution_count": null,
   "metadata": {
    "collapsed": false,
    "deletable": true,
    "editable": true
   },
   "outputs": [],
   "source": [
    "# DATASET STORAGE\n",
    "# obs: maybe saving the norm factor for reconstruction test\n",
    "# check for the dataset shape (expected: batch, mels, timesteps)\n",
    "print('Dataset shape:',dataset.shape)\n",
    "# save the dataset\n",
    "np.savez_compressed(file='sineSpectra_dataset', \n",
    "                    sines=dataset.astype(np.float32) \n",
    "                   )\n",
    "print('Saved and successfully finished at ', datetime.now().time())"
   ]
  }
 ],
 "metadata": {
  "kernelspec": {
   "display_name": "Python 3",
   "language": "python",
   "name": "python3"
  },
  "language_info": {
   "codemirror_mode": {
    "name": "ipython",
    "version": 3
   },
   "file_extension": ".py",
   "mimetype": "text/x-python",
   "name": "python",
   "nbconvert_exporter": "python",
   "pygments_lexer": "ipython3",
   "version": "3.5.0"
  }
 },
 "nbformat": 4,
 "nbformat_minor": 2
}
