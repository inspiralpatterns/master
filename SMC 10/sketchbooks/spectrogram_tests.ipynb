{
 "cells": [
  {
   "cell_type": "code",
   "execution_count": 1,
   "metadata": {
    "collapsed": false,
    "deletable": true,
    "editable": true
   },
   "outputs": [],
   "source": [
    "# tests with spectrograms with different configuration parameters\n",
    "# the spectrograms are created from the MusicNet dataset\n",
    "\n",
    "import numpy as np\n",
    "import librosa\n",
    "import librosa.display\n",
    "import matplotlib.pyplot as plt\n",
    "\n",
    "from utils import compute_spectrogram\n",
    "\n",
    "from datetime import datetime"
   ]
  },
  {
   "cell_type": "code",
   "execution_count": 3,
   "metadata": {
    "collapsed": false,
    "deletable": true,
    "editable": true
   },
   "outputs": [
    {
     "name": "stdout",
     "output_type": "stream",
     "text": [
      "Audio chunk is 396900 frames long\n",
      "330  recordings in the dataset\n",
      "Selected indexes:  [225] [43] [32] [107] [85] [314] [36] [41] [317] [219] [175] [231] [112] [103] [51] [113] [271] [107] [170] [298]\n",
      "Corresponding to files: ['2366', '1792', '1752', '2383', '2147', '2230', '2242', '2463', '2234', '2588', '2483', '2211', '2178', '2307', '1859', '2179', '2343', '2383', '2293', '2308']\n"
     ]
    }
   ],
   "source": [
    "# general parameter initialisation\n",
    "# obs: the time in secs has been chosen to get a 500 frames in every spectrogram\n",
    "sr = 44100                                              # sampling rate\n",
    "fft_size = 1024                                         # size of FFT\n",
    "hop_size = 512                                          # hop size (overlap)\n",
    "duration = 18                                           # segment duration (sec)\n",
    "no_mels = 128                                           # no. of mel bins\n",
    "no_fft = 1600                                            # frames in spectrogram\n",
    "chunk_len = np.round(sr * duration).astype(int)         # segment duration (samples)\n",
    "print('Audio chunk is', chunk_len, 'frames long')\n",
    "\n",
    "# load the dataset structure\n",
    "path = 'musicnet.npz'\n",
    "data = np.load(path, 'rb')\n",
    "no_spectrograms = len(data.files)                       # total number of spectrograms\n",
    "ids = data.files                                        # get the id for each recording (list)\n",
    "print(len(ids), ' recordings in the dataset')\n",
    "\n",
    "# variables initialisation\n",
    "dataset = np.empty([no_mels, no_fft, 0])                # empty 3-d array\n",
    "X = np.empty(chunk_len)                                 # store audio recording\n",
    "\n",
    "# select files randomly\n",
    "no_files = 50\n",
    "idx = np.round(np.random.rand(no_files,1)*len(data.files)).astype(int)\n",
    "print('Selected indexes: ',' '.join(str(id) for id in idx))\n",
    "\n",
    "tmp = ' '.join(str(ids[idx.item(n)]) for n in range(no_files)) \n",
    "ids = tmp.split(' ')\n",
    "print('Corresponding to files:',ids)"
   ]
  },
  {
   "cell_type": "code",
   "execution_count": null,
   "metadata": {
    "collapsed": false,
    "deletable": true,
    "editable": true
   },
   "outputs": [],
   "source": [
    "# spectrograms computations \n",
    "print('Computation started at ', datetime.now().time())\n",
    "for id in ids:\n",
    "\n",
    "    # extract the corresponding audio recording\n",
    "    X = data[id][0]\n",
    "    print('File extracted')\n",
    "\n",
    "    # how many chunks?\n",
    "    chunks = np.round(len(X)/chunk_len)\n",
    "    print('Chunks found:', chunks)\n",
    "\n",
    "    for index in range(chunks):\n",
    "        input = X[index*chunk_len:(index+1)*chunk_len]\n",
    "\n",
    "        [S, dims] = compute_spectrogram(\n",
    "            audiofile=input,\n",
    "            sr=sr,\n",
    "            no_mels=no_mels,\n",
    "            fft_size=fft_size,\n",
    "            hop_size=hop_size,\n",
    "        )\n",
    "        \n",
    "        # zero-padding if spectrogram is smaller\n",
    "        S = np.concatenate((S, np.zeros([128,1600-S.shape[1]])),axis=1)\n",
    "        # reshape spectrogram\n",
    "        S = np.reshape(S, newshape=[dims[0], 1600, 1])\n",
    "        #print('S dimensions:',S.shape)\n",
    "        dataset = np.concatenate((dataset, S), axis=2)\n",
    "\n",
    "\n",
    "# save the dataset\n",
    "np.savez_compressed(file='dataset9sec', dataset=dataset)\n",
    "print('Saved and successfully finished at ', datetime.now().time())"
   ]
  }
 ],
 "metadata": {
  "kernelspec": {
   "display_name": "Python 3",
   "language": "python",
   "name": "python3"
  },
  "language_info": {
   "codemirror_mode": {
    "name": "ipython",
    "version": 3
   },
   "file_extension": ".py",
   "mimetype": "text/x-python",
   "name": "python",
   "nbconvert_exporter": "python",
   "pygments_lexer": "ipython3",
   "version": "3.5.0"
  }
 },
 "nbformat": 4,
 "nbformat_minor": 2
}
