{
 "cells": [
  {
   "cell_type": "code",
   "execution_count": 16,
   "metadata": {
    "collapsed": false,
    "deletable": true,
    "editable": true
   },
   "outputs": [],
   "source": [
    "# Convolutional autoencoder using 1D convolution\n",
    "\n",
    "import numpy as np\n",
    "\n",
    "from keras.layers import Input # define the input shape for the model\n",
    "from keras.layers import Conv1D, MaxPooling1D, UpSampling1D # for the convnet structure\n",
    "from keras.models import Model # for the overall definition\n",
    "\n",
    "\n",
    "from keras.initializers import Constant # bias initialisation\n",
    "from keras.initializers import TruncatedNormal # kernel initialissation\n",
    "from keras.layers.advanced_activations import LeakyReLU # activation function (from NSynth)"
   ]
  },
  {
   "cell_type": "code",
   "execution_count": 2,
   "metadata": {
    "collapsed": false,
    "deletable": true,
    "editable": true
   },
   "outputs": [
    {
     "name": "stdout",
     "output_type": "stream",
     "text": [
      "Training dataset with shape (1145, 500, 128)\n",
      "Batch size: 1145\n"
     ]
    }
   ],
   "source": [
    "# DEEP LEARNING PART\n",
    "\n",
    "# load the training dataset\n",
    "dataset = np.load('spectrogram_test.npz','r')\n",
    "data_training = dataset['dataset']\n",
    "data_training = np.transpose(data_training)\n",
    "print('Training dataset with shape', data_training.shape)\n",
    "print('Batch size:', data_training.shape[0])"
   ]
  },
  {
   "cell_type": "code",
   "execution_count": 3,
   "metadata": {
    "collapsed": false,
    "deletable": true,
    "editable": true
   },
   "outputs": [
    {
     "name": "stdout",
     "output_type": "stream",
     "text": [
      "Some information about tensor expected shapes\n",
      "Input tensor shape: (?, 500, 128)\n"
     ]
    }
   ],
   "source": [
    "# Convolutional autoencoder structure using the Keras Model API\n",
    "# define input shape\n",
    "input_img = Input(shape=(500,128))\n",
    "print('Some information about tensor expected shapes')\n",
    "print('Input tensor shape:', input_img.shape)"
   ]
  },
  {
   "cell_type": "code",
   "execution_count": 18,
   "metadata": {
    "collapsed": false,
    "deletable": true,
    "editable": true
   },
   "outputs": [
    {
     "name": "stdout",
     "output_type": "stream",
     "text": [
      "Encoded representation tensor shape: (?, 125, 512)\n",
      "Decoded representation tensor shape: (?, 500, 1)\n"
     ]
    }
   ],
   "source": [
    "# define encoder convnet\n",
    "# obs: 1D convolution implemented\n",
    "x = Conv1D(filters=128,kernel_size=4,activation=LeakyReLU(),padding='causal',dilation_rate=4,bias_initializer=Constant(0.1),kernel_initializer=TruncatedNormal())(input_img)\n",
    "x = Conv1D(filters=256,kernel_size=(4),activation=LeakyReLU(),padding='causal',dilation_rate=2,bias_initializer=Constant(0.1),kernel_initializer=TruncatedNormal())(x)\n",
    "x = MaxPooling1D(pool_size=4,strides=4)(x)\n",
    "encoded = Conv1D(filters=512,kernel_size=4,activation=LeakyReLU(),padding='causal',bias_initializer=Constant(0.1),kernel_initializer=TruncatedNormal())(x)\n",
    "print('Encoded representation tensor shape:', encoded.shape)\n",
    "\n",
    "# define decoder convnet\n",
    "x = Conv1D(filters=256,kernel_size=4,activation=LeakyReLU(),padding='causal',bias_initializer=Constant(0.1),kernel_initializer=TruncatedNormal())(encoded)\n",
    "x = UpSampling1D(size=4)(x)\n",
    "x = Conv1D(filters=128,kernel_size=4,activation=LeakyReLU(),padding='causal',dilation_rate=2,bias_initializer=Constant(0.1),kernel_initializer=TruncatedNormal())(x)\n",
    "decoded = Conv1D(filters=1,kernel_size=4,activation=LeakyReLU(),padding='causal',dilation_rate=4,bias_initializer=Constant(0.1),kernel_initializer=TruncatedNormal())(x)\n",
    "print('Decoded representation tensor shape:', decoded.shape)"
   ]
  },
  {
   "cell_type": "code",
   "execution_count": 13,
   "metadata": {
    "collapsed": false,
    "deletable": true,
    "editable": true
   },
   "outputs": [
    {
     "name": "stdout",
     "output_type": "stream",
     "text": [
      "alert: in/out dimension mismatch\n"
     ]
    }
   ],
   "source": [
    "# define overal autoencoder model\n",
    "cae = Model(inputs=input_img, outputs=decoded)\n",
    "cae.compile(optimizer='adam', loss='mse')\n",
    "\n",
    "# check for equal size\n",
    "# obs: the missing value is the batch_size\n",
    "if input_img.shape[1:] != decoded.shape[1:]: print('alert: in/out dimension mismatch')"
   ]
  },
  {
   "cell_type": "code",
   "execution_count": 17,
   "metadata": {
    "collapsed": false,
    "deletable": true,
    "editable": true
   },
   "outputs": [
    {
     "name": "stdout",
     "output_type": "stream",
     "text": [
      "Data training reshaping in tensor of shape (319, 2584, 128, 1)\n"
     ]
    }
   ],
   "source": [
    "# reshape the training set in 4-dimension tensor\n",
    "data_training = np.reshape(data_training, (len(data_training), data_training.shape[1], data_training.shape[2], 1))\n",
    "print('Data training reshaping in tensor of shape', data_training.shape)"
   ]
  },
  {
   "cell_type": "code",
   "execution_count": null,
   "metadata": {
    "collapsed": true,
    "deletable": true,
    "editable": true
   },
   "outputs": [],
   "source": [
    "# Autoencoder training\n",
    "cae.fit(data_training,data_training,\n",
    "        epochs=1,\n",
    "        batch_size=4, # minibatch of 4 for memory optimisation\n",
    "        #callbacks=[TensorBoard(log_dir='/tmp/autoencoder')]\n",
    "       )\n",
    "\n",
    "\n",
    "# Saving the weights\n",
    "import h5py\n",
    "cae.save('cae_dtu_k80_structure1.h5')"
   ]
  }
 ],
 "metadata": {
  "kernelspec": {
   "display_name": "Python 3",
   "language": "python",
   "name": "python3"
  },
  "language_info": {
   "codemirror_mode": {
    "name": "ipython",
    "version": 3
   },
   "file_extension": ".py",
   "mimetype": "text/x-python",
   "name": "python",
   "nbconvert_exporter": "python",
   "pygments_lexer": "ipython3",
   "version": "3.5.0"
  }
 },
 "nbformat": 4,
 "nbformat_minor": 2
}
