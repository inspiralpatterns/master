{
 "cells": [
  {
   "cell_type": "code",
   "execution_count": 2,
   "metadata": {
    "collapsed": false,
    "deletable": true,
    "editable": true
   },
   "outputs": [
    {
     "name": "stdout",
     "output_type": "stream",
     "text": [
      "Training dataset with shape (1145, 500, 128)\n",
      "Batch size: 1145\n",
      "Some information about tensor expected shapes\n",
      "Input tensor shape: (?, 500, 128, 1)\n",
      "Encoded representation tensor shape: (?, 125, 32, 512)\n"
     ]
    },
    {
     "ename": "AttributeError",
     "evalue": "'Tensor' object has no attribute 'output'",
     "output_type": "error",
     "traceback": [
      "\u001b[0;31m---------------------------------------------------------------------------\u001b[0m",
      "\u001b[0;31mAttributeError\u001b[0m                            Traceback (most recent call last)",
      "\u001b[0;32m<ipython-input-2-81f003b2151d>\u001b[0m in \u001b[0;36m<module>\u001b[0;34m()\u001b[0m\n\u001b[1;32m     40\u001b[0m \u001b[0;31m# define decoder convnet\u001b[0m\u001b[0;34m\u001b[0m\u001b[0;34m\u001b[0m\u001b[0m\n\u001b[1;32m     41\u001b[0m \u001b[0mx\u001b[0m \u001b[0;34m=\u001b[0m \u001b[0mConv2D\u001b[0m\u001b[0;34m(\u001b[0m\u001b[0mfilters\u001b[0m\u001b[0;34m=\u001b[0m\u001b[0;36m256\u001b[0m\u001b[0;34m,\u001b[0m\u001b[0mkernel_size\u001b[0m\u001b[0;34m=\u001b[0m\u001b[0;34m(\u001b[0m\u001b[0;36m5\u001b[0m\u001b[0;34m,\u001b[0m\u001b[0;36m5\u001b[0m\u001b[0;34m)\u001b[0m\u001b[0;34m,\u001b[0m\u001b[0mactivation\u001b[0m\u001b[0;34m=\u001b[0m\u001b[0;34m'relu'\u001b[0m\u001b[0;34m,\u001b[0m\u001b[0mpadding\u001b[0m\u001b[0;34m=\u001b[0m\u001b[0;34m'same'\u001b[0m\u001b[0;34m,\u001b[0m\u001b[0mdilation_rate\u001b[0m\u001b[0;34m=\u001b[0m\u001b[0;36m1\u001b[0m\u001b[0;34m,\u001b[0m\u001b[0mbias_initializer\u001b[0m\u001b[0;34m=\u001b[0m\u001b[0mConstant\u001b[0m\u001b[0;34m(\u001b[0m\u001b[0;36m0.1\u001b[0m\u001b[0;34m)\u001b[0m\u001b[0;34m,\u001b[0m\u001b[0mkernel_initializer\u001b[0m\u001b[0;34m=\u001b[0m\u001b[0mTruncatedNormal\u001b[0m\u001b[0;34m(\u001b[0m\u001b[0;34m)\u001b[0m\u001b[0;34m)\u001b[0m\u001b[0;34m(\u001b[0m\u001b[0mencoded\u001b[0m\u001b[0;34m)\u001b[0m\u001b[0;34m\u001b[0m\u001b[0m\n\u001b[0;32m---> 42\u001b[0;31m \u001b[0mx\u001b[0m\u001b[0;34m.\u001b[0m\u001b[0moutput\u001b[0m\u001b[0;34m\u001b[0m\u001b[0m\n\u001b[0m\u001b[1;32m     43\u001b[0m \u001b[0mx\u001b[0m \u001b[0;34m=\u001b[0m \u001b[0mUpSampling2D\u001b[0m\u001b[0;34m(\u001b[0m\u001b[0msize\u001b[0m\u001b[0;34m=\u001b[0m\u001b[0;34m(\u001b[0m\u001b[0;36m2\u001b[0m\u001b[0;34m,\u001b[0m\u001b[0;36m2\u001b[0m\u001b[0;34m)\u001b[0m\u001b[0;34m)\u001b[0m\u001b[0;34m(\u001b[0m\u001b[0mx\u001b[0m\u001b[0;34m)\u001b[0m\u001b[0;34m\u001b[0m\u001b[0m\n\u001b[1;32m     44\u001b[0m \u001b[0mx\u001b[0m \u001b[0;34m=\u001b[0m \u001b[0mConv2D\u001b[0m\u001b[0;34m(\u001b[0m\u001b[0mfilters\u001b[0m\u001b[0;34m=\u001b[0m\u001b[0;36m128\u001b[0m\u001b[0;34m,\u001b[0m\u001b[0mkernel_size\u001b[0m\u001b[0;34m=\u001b[0m\u001b[0;34m(\u001b[0m\u001b[0;36m2\u001b[0m\u001b[0;34m,\u001b[0m\u001b[0;36m2\u001b[0m\u001b[0;34m)\u001b[0m\u001b[0;34m,\u001b[0m\u001b[0mactivation\u001b[0m\u001b[0;34m=\u001b[0m\u001b[0;34m'relu'\u001b[0m\u001b[0;34m,\u001b[0m\u001b[0mpadding\u001b[0m\u001b[0;34m=\u001b[0m\u001b[0;34m'same'\u001b[0m\u001b[0;34m,\u001b[0m\u001b[0mdilation_rate\u001b[0m\u001b[0;34m=\u001b[0m\u001b[0;36m2\u001b[0m\u001b[0;34m,\u001b[0m\u001b[0mbias_initializer\u001b[0m\u001b[0;34m=\u001b[0m\u001b[0mConstant\u001b[0m\u001b[0;34m(\u001b[0m\u001b[0;36m0.1\u001b[0m\u001b[0;34m)\u001b[0m\u001b[0;34m,\u001b[0m\u001b[0mkernel_initializer\u001b[0m\u001b[0;34m=\u001b[0m\u001b[0mTruncatedNormal\u001b[0m\u001b[0;34m(\u001b[0m\u001b[0;34m)\u001b[0m\u001b[0;34m)\u001b[0m\u001b[0;34m(\u001b[0m\u001b[0mx\u001b[0m\u001b[0;34m)\u001b[0m\u001b[0;34m\u001b[0m\u001b[0m\n",
      "\u001b[0;31mAttributeError\u001b[0m: 'Tensor' object has no attribute 'output'"
     ]
    }
   ],
   "source": [
    "# -*- coding: utf-8 -*-\n",
    "\n",
    "# convolutional autoencoder structure no 3\n",
    "# a. use of initialisers\n",
    "# b. use of dilation\n",
    "\n",
    "# general package dependencies\n",
    "import numpy as np\n",
    "\n",
    "from keras.layers import Input # define the input shape for the model\n",
    "from keras.layers import Conv2D, MaxPooling2D, UpSampling2D # for the convnet structure\n",
    "from keras.models import Model # for the overall definition\n",
    "\n",
    "from keras.initializers import Constant # bias initialisation\n",
    "from keras.initializers import TruncatedNormal # kernel initialissation\n",
    "from keras.layers.advanced_activations import LeakyReLU # activation function (from NSynth)\n",
    "\n",
    "# load the training dataset\n",
    "dataset = np.load('spectrogram_test.npz','r')\n",
    "data_training = dataset['dataset']\n",
    "data_training = np.transpose(data_training)\n",
    "print('Training dataset with shape', data_training.shape)\n",
    "print('Batch size:', data_training.shape[0])\n",
    "\n",
    "# Convolutional autoencoder structure using the Keras Model API\n",
    "# define input shape\n",
    "input_img = Input(shape=(500,128,1))\n",
    "print('Some information about tensor expected shapes')\n",
    "print('Input tensor shape:', input_img.shape)\n",
    "\n",
    "# Convolutional autoencoder definition\n",
    "# define encoder convnet\n",
    "x = Conv2D(filters=128,kernel_size=(4,4),activation='relu',padding='same',bias_initializer=Constant(0.1),kernel_initializer=TruncatedNormal())(input_img)\n",
    "x = MaxPooling2D(pool_size=(2,2),strides=(2),padding='same')(x)\n",
    "x = Conv2D(filters=256,kernel_size=(2,2),activation='relu',padding='same',bias_initializer=Constant(0.1),kernel_initializer=TruncatedNormal())(x)\n",
    "x = MaxPooling2D(pool_size=(2,2),strides=(2),padding='same')(x)\n",
    "encoded = Conv2D(filters=512,kernel_size=(5,5),activation='relu',padding='same',bias_initializer=Constant(0.1),kernel_initializer=TruncatedNormal())(x)\n",
    "print('Encoded representation tensor shape:', encoded.shape)\n",
    "\n",
    "# define decoder convnet\n",
    "x = Conv2D(filters=256,kernel_size=(5,5),activation='relu',padding='same',dilation_rate=1,bias_initializer=Constant(0.1),kernel_initializer=TruncatedNormal())(encoded)\n",
    "x = UpSampling2D(size=(2,2))(x)\n",
    "x = Conv2D(filters=128,kernel_size=(2,2),activation='relu',padding='same',dilation_rate=2,bias_initializer=Constant(0.1),kernel_initializer=TruncatedNormal())(x)\n",
    "x = UpSampling2D(size=(2,2))(x)\n",
    "decoded = Conv2D(filters=1,kernel_size=(4,4),activation='relu',padding='same',dilation_rate=4,bias_initializer=Constant(0.1),kernel_initializer=TruncatedNormal())(x)\n",
    "print('Decoded representation tensor shape:', decoded.shape)\n",
    "\n",
    "# define overal autoencoder model\n",
    "cae = Model(inputs=input_img, outputs=decoded)\n",
    "cae.compile(optimizer='adam', loss='mse')\n",
    "\n",
    "# check for equal size\n",
    "# obs: the missing value is the batch_size\n",
    "if input_img.shape[1:] != decoded.shape[1:]: print('alert: in/out dimension mismatch')"
   ]
  },
  {
   "cell_type": "code",
   "execution_count": null,
   "metadata": {
    "collapsed": true,
    "deletable": true,
    "editable": true
   },
   "outputs": [],
   "source": [
    "# reshape the training set in 4-dimension tensor\n",
    "data_training = np.reshape(data_training, (len(data_training), data_training.shape[1], data_training.shape[2], 1))\n",
    "print('Data training reshaping in tensor of shape', data_training.shape)\n",
    "\n",
    "# Autoencoder training\n",
    "cae.fit(data_training,data_training,\n",
    "        epochs=10,\n",
    "        batch_size=16, # minibatch of 16 for memory optimisation\n",
    "        #callbacks=[TensorBoard(log_dir='/tmp/autoencoder')]\n",
    "       )\n",
    "\n",
    "\n",
    "# Saving the weights\n",
    "import h5py\n",
    "cae.save('cae_dtu_structure3.h5')"
   ]
  }
 ],
 "metadata": {
  "kernelspec": {
   "display_name": "Python 3",
   "language": "python",
   "name": "python3"
  },
  "language_info": {
   "codemirror_mode": {
    "name": "ipython",
    "version": 3
   },
   "file_extension": ".py",
   "mimetype": "text/x-python",
   "name": "python",
   "nbconvert_exporter": "python",
   "pygments_lexer": "ipython3",
   "version": "3.5.0"
  }
 },
 "nbformat": 4,
 "nbformat_minor": 2
}
