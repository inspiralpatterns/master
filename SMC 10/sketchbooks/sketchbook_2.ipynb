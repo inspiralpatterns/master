{
 "cells": [
  {
   "cell_type": "markdown",
   "metadata": {
    "deletable": true,
    "editable": true
   },
   "source": [
    "# SKETCHBOOK 2\n",
    "Using the sine spectrograms dataset to obtain the best architecture"
   ]
  },
  {
   "cell_type": "code",
   "execution_count": null,
   "metadata": {
    "collapsed": false,
    "deletable": true,
    "editable": true
   },
   "outputs": [],
   "source": [
    "import numpy as np\n",
    "from keras.layers import Input, Dense, Conv2D, MaxPooling2D, UpSampling2D\n",
    "from keras.models import Model\n",
    "from keras import backend as K\n",
    "from keras import regularizers\n",
    "from keras.layers.advanced_activations import LeakyReLU\n",
    "\n",
    "\n",
    "# definition of the sparsity penalty\n",
    "# the KL divergence describe the penalty term to be applied to the loss function\n",
    "def KL(p, p_hat):\n",
    "    return (p * K.log(p / p_hat)) + ((1-p) * K.log((1-p) / (1-p_hat)))\n",
    "\n",
    "class SparseReg(regularizers.Regularizer):\n",
    "\n",
    "    def __init__(self, p=0.05, beta=0.1,p_hat=0.0):\n",
    "        self.p = K.cast_to_floatx(p)\n",
    "        self.beta = K.cast_to_floatx(beta)\n",
    "        self.p_hat = K.cast_to_floatx(p_hat)\n",
    "\n",
    "    def __call__(self, x):\n",
    "        regularization = 0.\n",
    "        # p_hat needs to be the average activation of the units in the hidden layer.\n",
    "        self.p_hat = K.sum(K.mean(x))\n",
    "\n",
    "        regularization += self.beta * KL(self.p,self.p_hat)\n",
    "        return regularization\n",
    "\n",
    "    def get_config(self):\n",
    "        return {'p': float(self.p),\n",
    "                'beta': float(self.beta)\n",
    "               }"
   ]
  },
  {
   "cell_type": "code",
   "execution_count": null,
   "metadata": {
    "collapsed": false,
    "deletable": true,
    "editable": true
   },
   "outputs": [],
   "source": [
    "# DATA LOADING AND INITIALISATION\n",
    "# load the dataset\n",
    "dataset = np.load('dataset_test.npz','r')\n",
    "data = dataset['spectrograms']\n",
    "norms = dataset['norms']\n",
    "print('Dataset with shape', data.shape)\n",
    "\n",
    "# reshape the dataset in 4-dimension tensor\n",
    "data = np.reshape(data, (data.shape[0], data.shape[1], data.shape[2], 1))\n",
    "print('Dataset reshaping in tensor of shape', data.shape)\n",
    "\n",
    "# split between train and validation set\n",
    "train_set = data[:1500]\n",
    "validation_set = data[1500:]\n",
    "print('Train batch:',train_set.shape)\n",
    "print('Validation batch:',validation_set.shape)"
   ]
  },
  {
   "cell_type": "code",
   "execution_count": null,
   "metadata": {
    "collapsed": false,
    "deletable": true,
    "editable": true
   },
   "outputs": [],
   "source": [
    "# plot spectrograms for check\n",
    "import librosa\n",
    "import librosa.display\n",
    "import matplotlib.pyplot as plt\n",
    "\n",
    "test = train_set[900]\n",
    "norm = norms[900]\n",
    "test = np.reshape(test,newshape=(128,88))\n",
    "\n",
    "fig = plt.figure(figsize=[12, 4])\n",
    "librosa.display.specshow(test*norm, sr=44100, y_axis='mel', x_axis='time')\n",
    "plt.colorbar(format='%+2.0f dB')\n",
    "plt.title('Mel spectrogram')\n",
    "plt.tight_layout()\n",
    "plt.show()\n",
    "fig.savefig('Mel spectrogram')"
   ]
  },
  {
   "cell_type": "code",
   "execution_count": null,
   "metadata": {
    "collapsed": false,
    "deletable": true,
    "editable": true
   },
   "outputs": [],
   "source": [
    "# ARCHITECTURE DEFINITION\n",
    "# obs: when doing a greedy layer-wise training set the attribute trainable to False to already trained layers\n",
    "\n",
    "# input structure\n",
    "input_img = Input(shape=(128,776,1))\n",
    "print('Input tensor shape:', input_img.shape)\n",
    "\n",
    "# encoding structure\n",
    "x = Conv2D(256, (3, 3), padding='same', kernel_regularizer=regularizers.l2(0.01), \n",
    "           activity_regularizer=SparseReg(beta=5e-1,p=1e-2), name='lay1', trainable=False)(input_img)\n",
    "x = LeakyReLU(1e-1)(x)\n",
    "x = MaxPooling2D(pool_size=(2,2), strides=(2), padding='same')(x)\n",
    "x = Conv2D(256, (3, 3), padding='same', kernel_regularizer=regularizers.l2(0.01), \n",
    "           activity_regularizer=SparseReg(beta=5e-1,p=1e-2),name='lay2')(x)\n",
    "x = LeakyReLU(1e-1)(x)\n",
    "#x = MaxPooling2D(pool_size=(2,2), strides=(2), padding='same')(x)\n",
    "#x = Conv2D(512, (3, 3), padding='same', activity_regularizer=SparseReg(beta=5e-1,p=1e-2),name='lay3')(x)\n",
    "#x = LeakyReLU(1e-1)(x)\n",
    "#x = Conv2D(1024, (1, 1), padding='same', activity_regularizer=SparseReg(beta=5e-1,p=1e-2),name='lay3bis')(x)\n",
    "#x = LeakyReLU(1e-1)(x)\n",
    "#encoded = MaxPooling2D(pool_size=(2,2), strides=(2), padding='same')(x)\n",
    "#print('Encoded representation tensor shape:', encoded.shape)\n",
    "\n",
    "# decoding structure\n",
    "#x = Conv2D(1024, (1, 1), padding='same', activity_regularizer=SparseReg(beta=5e-1,p=1e-2),name='lay4')(encoded)\n",
    "#x = LeakyReLU(1e-1)(x)\n",
    "#x = Conv2D(512, (3, 3), padding='same', activity_regularizer=SparseReg(beta=5e-1,p=1e-2),name='lay4bis')(x)\n",
    "#x = LeakyReLU(1e-1)(x)\n",
    "#x = UpSampling2D(size=(2,2))(x)\n",
    "#x = Conv2D(256, (3, 3), padding='same', activity_regularizer=SparseReg(beta=5e-1,p=1e-2),name='lay5')(x)\n",
    "#x = LeakyReLU(1e-1)(x)\n",
    "#x = UpSampling2D(size=(2,2))(x)\n",
    "x = Conv2D(256, (3, 3), padding='same', kernel_regularizer=regularizers.l2(0.01), \n",
    "           activity_regularizer=SparseReg(beta=5e-1,p=1e-2), name='lay6')(x)\n",
    "x = LeakyReLU(1e-1)(x)\n",
    "x = UpSampling2D(size=(2,2))(x)\n",
    "x = Conv2D(1, (3, 3), padding='same', kernel_regularizer=regularizers.l2(0.01), \n",
    "           activity_regularizer=SparseReg(beta=5e-1,p=1e-2), name='lay7')(x)\n",
    "decoded = LeakyReLU(1e-1)(x)\n",
    "print('Decoded representation tensor shape:', decoded.shape)\n",
    "\n",
    "\n",
    "# compile the model\n",
    "autoencoder = Model(input_img, decoded)\n",
    "autoencoder.compile(optimizer='adam', loss='mse', metrics=['accuracy'])"
   ]
  },
  {
   "cell_type": "code",
   "execution_count": null,
   "metadata": {
    "collapsed": true,
    "deletable": true,
    "editable": true
   },
   "outputs": [],
   "source": [
    "# using mnist dataset\n",
    "from keras.datasets import mnist\n",
    "import numpy as np\n",
    "(x_train, _),(x_test, _) = mnist.load_data()\n",
    "\n",
    "x_train = x_train.astype('float32') / 255.\n",
    "x_test = x_test.astype('float32') / 255.\n",
    "x_train = np.reshape(x_train, (len(x_train), 28, 28, 1))  # adapt this if using `channels_first` image data format\n",
    "x_test = np.reshape(x_test, (len(x_test), 28, 28, 1))  # adapt this if using `channels_first` image data format"
   ]
  },
  {
   "cell_type": "code",
   "execution_count": null,
   "metadata": {
    "collapsed": false,
    "deletable": true,
    "editable": true
   },
   "outputs": [],
   "source": [
    "# add noise to the data to force the autoencoder not to learn the identity function\n",
    "# obs: it screws up spectrograms!\n",
    "noise_factor = 0.3\n",
    "x_train_noisy = x_train + noise_factor * np.random.normal(loc=0.0, scale=1.0, size=x_train.shape)\n",
    "x_test_noisy = x_test + noise_factor * np.random.normal(loc=0.0, scale=1.0, size=x_test.shape)\n",
    "\n",
    "x_train_noisy = np.clip(x_train_noisy, 0., 1.)\n",
    "x_test_noisy = np.clip(x_test_noisy, 0., 1.)"
   ]
  },
  {
   "cell_type": "code",
   "execution_count": null,
   "metadata": {
    "collapsed": false,
    "deletable": true,
    "editable": true
   },
   "outputs": [],
   "source": [
    "# LOAD TRAINED LAYERS\n",
    "# load weights in an architecture which has layers in common\n",
    "autoencoder.load_weights('specs_leaky_one_cae_weights.h5',by_name=True)"
   ]
  },
  {
   "cell_type": "code",
   "execution_count": null,
   "metadata": {
    "collapsed": false,
    "deletable": true,
    "editable": true
   },
   "outputs": [],
   "source": [
    "# MODEL TRAINING\n",
    "# obs: do not use noise injection with spectrograms\n",
    "hist = autoencoder.fit(train_set, train_set,\n",
    "                epochs=1,\n",
    "                batch_size=4,\n",
    "                validation_data=(validation_set, validation_set),\n",
    "                )"
   ]
  },
  {
   "cell_type": "code",
   "execution_count": null,
   "metadata": {
    "collapsed": true,
    "deletable": true,
    "editable": true
   },
   "outputs": [],
   "source": [
    "# IF USING MNIST\n",
    "from keras.datasets import mnist\n",
    "import numpy as np\n",
    "\n",
    "(x_train, _), (x_test, _) = mnist.load_data()\n",
    "\n",
    "x_train = x_train.astype('float32') / 255.\n",
    "x_test = x_test.astype('float32') / 255.\n",
    "x_train = np.reshape(x_train, (len(x_train), 28, 28, 1))  # adapt this if using `channels_first` image data format\n",
    "x_test = np.reshape(x_test, (len(x_test), 28, 28, 1))  # adapt this if using `channels_first` image data format\n"
   ]
  },
  {
   "cell_type": "code",
   "execution_count": null,
   "metadata": {
    "collapsed": false,
    "deletable": true,
    "editable": true
   },
   "outputs": [],
   "source": [
    "# write losses and accuracies in a json file\n",
    "import json\n",
    "\n",
    "with open('data.json', 'w') as fp:\n",
    "    json.dump(hist.history, fp)"
   ]
  },
  {
   "cell_type": "code",
   "execution_count": null,
   "metadata": {
    "collapsed": true,
    "deletable": true,
    "editable": true
   },
   "outputs": [],
   "source": []
  }
 ],
 "metadata": {
  "kernelspec": {
   "display_name": "Python 3",
   "language": "python",
   "name": "python3"
  },
  "language_info": {
   "codemirror_mode": {
    "name": "ipython",
    "version": 3
   },
   "file_extension": ".py",
   "mimetype": "text/x-python",
   "name": "python",
   "nbconvert_exporter": "python",
   "pygments_lexer": "ipython3",
   "version": "3.5.0"
  }
 },
 "nbformat": 4,
 "nbformat_minor": 2
}
